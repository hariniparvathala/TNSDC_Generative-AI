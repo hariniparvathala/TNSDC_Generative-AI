{
  "cells": [
    {
      "cell_type": "code",
      "execution_count": 1,
      "metadata": {
        "id": "CIMv8rPMCasM"
      },
      "outputs": [],
      "source": [
        "\n"
      ]
    },
    {
      "cell_type": "code",
      "execution_count": 3,
      "metadata": {
        "colab": {
          "base_uri": "https://localhost:8080/",
          "height": 106
        },
        "id": "4oSfMvkMC6uo",
        "outputId": "8f92d473-d2d0-47e0-a9d1-866be306ac96"
      },
      "outputs": [
        {
          "ename": "IndentationError",
          "evalue": "unindent does not match any outer indentation level (<tokenize>, line 18)",
          "output_type": "error",
          "traceback": [
            "\u001b[0;36m  File \u001b[0;32m\"<tokenize>\"\u001b[0;36m, line \u001b[0;32m18\u001b[0m\n\u001b[0;31m    Calculate average score for a specific student\u001b[0m\n\u001b[0m    ^\u001b[0m\n\u001b[0;31mIndentationError\u001b[0m\u001b[0;31m:\u001b[0m unindent does not match any outer indentation level\n"
          ]
        }
      ],
      "source": []
    },
    {
      "cell_type": "code",
      "execution_count": 6,
      "metadata": {
        "colab": {
          "base_uri": "https://localhost:8080/"
        },
        "id": "E7Tk0mlhDw_Z",
        "outputId": "538bce63-4c12-49b5-e674-988534fbb6f9"
      },
      "outputs": [
        {
          "name": "stdout",
          "output_type": "stream",
          "text": [
            "All Student Results:\n",
            "   StudentID     Name  Maths  Science  English\n",
            "0          1     John     85       90       80\n",
            "1          2    Alice     75       85       95\n",
            "2          3      Bob     90       80       70\n",
            "3          4      Eve     80       75       85\n",
            "4          5  Michael     95       95       90\n",
            "5          6   Sophia     85       90       95\n",
            "6          6   Sophia     85       90       95\n",
            "\n",
            "Result for Student ID 2:\n",
            "   StudentID   Name  Maths  Science  English\n",
            "1          2  Alice     75       85       95\n",
            "\n",
            "Average score for Student ID 2:\n"
          ]
        }
      ],
      "source": [
        "if __name__ == \"__main__\":\n",
        "    dataset_path = '/content/data set for naan mudhalvan.csv'\n",
        "    system = StudentResultManagementSystem(dataset_path)\n",
        "\n",
        "    # Add a new student result\n",
        "    system.add_student_result(6, 'Sophia', 85, 90, 95)\n",
        "\n",
        "    # Display all student results\n",
        "    print(\"All Student Results:\")\n",
        "    system.display_student_results()\n",
        "    print()\n",
        "\n",
        "    # Get result for a specific student\n",
        "    student_id = 2\n",
        "    print(f\"Result for Student ID {student_id}:\")\n",
        "    print(system.get_student_result(student_id))\n",
        "    print()\n",
        "\n",
        "    # Calculate average score for a specific student\n",
        "    print(f\"Average score for Student ID {student_id}:\")"
      ]
    },
    {
      "cell_type": "code",
      "execution_count": null,
      "metadata": {
        "id": "5Af3CkAjD7rA"
      },
      "outputs": [],
      "source": []
    }
  ],
  "metadata": {
    "colab": {
      "provenance": []
    },
    "kernelspec": {
      "display_name": "Python 3",
      "name": "python3"
    },
    "language_info": {
      "name": "python"
    }
  },
  "nbformat": 4,
  "nbformat_minor": 0
}
